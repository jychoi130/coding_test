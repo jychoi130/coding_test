{
 "cells": [
  {
   "cell_type": "markdown",
   "metadata": {},
   "source": [
    "## 07 ) 두수의 합\n",
    "덧셈하여 타겟을 만들 수 있는 배열의 두 숫자 인덱스를 리턴하라"
   ]
  },
  {
   "cell_type": "code",
   "execution_count": 2,
   "metadata": {},
   "outputs": [
    {
     "name": "stdout",
     "output_type": "stream",
     "text": [
      "0 3\n"
     ]
    }
   ],
   "source": [
    "nums =[2,7,11,15]\n",
    "target=17\n",
    "\n",
    "for i in range(0,len(nums)):\n",
    "    for j in range(i+1,len(nums)):\n",
    "        if nums[i]+nums[j]==target:\n",
    "            print(i,j)"
   ]
  },
  {
   "cell_type": "code",
   "execution_count": null,
   "metadata": {},
   "outputs": [],
   "source": [
    "# 풀이 1 ) 브루트 포스로 계산\n",
    "# 브루트 포스 : 배열을 두번 반복하면서 모든 조합을 더해 일일히 확인해보는 무차별 대입 방식\n",
    "# 비 효율적 풀이이다 (나의 풀이와 동일)\n",
    "\n",
    "from typing import List\n",
    "\n",
    "\n",
    "class Solution:\n",
    "    def twoSum(self, nums: List[int], target: int) -> List[int]:\n",
    "        for i in range(len(nums)):\n",
    "            for j in range(i + 1, len(nums)):\n",
    "                if nums[i] + nums[j] == target:\n",
    "                    return [i, j]"
   ]
  },
  {
   "cell_type": "code",
   "execution_count": null,
   "metadata": {},
   "outputs": [],
   "source": [
    "# 풀이 2 ) in 을 이용한 탐색\n",
    "# 타겟-첫 번째 값을 뺀 값이 존재하는지 확인\n",
    "\n",
    "class Solution:\n",
    "    def twoSum(self, nums: List[int], target: int) -> List[int]:\n",
    "        for i, n in enumerate(nums): \n",
    "            #enumerate > 반복문 사용 시 몇번째 반복문인지 확인할때 사용\n",
    "            #인덱스 번호와 원소를 튜플 형태로 반환\n",
    "            complement = target - n\n",
    "\n",
    "            if complement in nums[i + 1:]:\n",
    "                return [nums.index(n), nums[i + 1:].index(complement) + (i + 1)]"
   ]
  },
  {
   "cell_type": "code",
   "execution_count": null,
   "metadata": {},
   "outputs": [],
   "source": [
    "# 풀이 3 ) 첫 번째 수를 뺀 결과 키 조회\n",
    "\n",
    "class Solution:\n",
    "    def twoSum(self, nums: List[int], target: int) -> List[int]:\n",
    "        nums_map = {}\n",
    "        # 키와 값을 바꿔서 딕셔너리로 저장\n",
    "        # 즉 딕셔너리의 키 값을 리스트의 숫자값으로 값을 리스트의 인덱스로\n",
    "        for i, num in enumerate(nums):\n",
    "            nums_map[num] = i\n",
    "\n",
    "        # 타겟에서 첫 번째 수를 뺀 결과를 키로 조회\n",
    "        for i, num in enumerate(nums):\n",
    "            if target - num in nums_map and i != nums_map[target - num]:\n",
    "                #즉 target-num값이 아닌 다른 값만 조회하도록 한다\n",
    "                return [i, nums_map[target - num]]"
   ]
  },
  {
   "cell_type": "code",
   "execution_count": null,
   "metadata": {},
   "outputs": [],
   "source": [
    "# 풀이 4 ) 조회 구조 개선\n",
    "\n",
    "class Solution:\n",
    "    def twoSum(self, nums: List[int], target: int) -> List[int]:\n",
    "        nums_map = {}\n",
    "        # 하나의 `for`문으로 통합\n",
    "        for i, num in enumerate(nums):\n",
    "            if target - num in nums_map:\n",
    "                return [nums_map[target - num], i]\n",
    "            nums_map[num] = i"
   ]
  },
  {
   "cell_type": "code",
   "execution_count": null,
   "metadata": {},
   "outputs": [],
   "source": [
    "# 틀린 풀이 5 ) 투 포인터 이용\n",
    "# 투 포인터 : 왼쪽 포인터와 오른쪽 포인터의 합이 (대신 정렬되어있어야한다) \n",
    "# 타겟보다 크면 오른쪽 포인터를 왼쪽으로,\n",
    "# 타겟보다 작다면 왼쪽 포인터를 오른쪽으로 옮김\n",
    "# 정렬되어있지 않으면 풀이가 불가능하다는 것을 유의해야한다\n",
    "\n",
    "class Solution:\n",
    "    def twoSum(self, nums: List[int], target: int) -> List[int]:\n",
    "        left, right = 0, len(nums) - 1\n",
    "        while not left == right:\n",
    "            # 합이 타겟보다 크면 오른쪽 포인터를 왼쪽으로\n",
    "            if nums[left] + nums[right] < target:\n",
    "                left += 1\n",
    "            # 합이 타겟보다 작으면 왼쪽 포인터를 오른쪽으로\n",
    "            elif nums[left] + nums[right] > target:\n",
    "                right -= 1\n",
    "            else:\n",
    "                return [left, right]"
   ]
  },
  {
   "cell_type": "code",
   "execution_count": null,
   "metadata": {},
   "outputs": [],
   "source": [
    "# 풀이 6 ) Go(고) 구현\n",
    "# Go 언어 사용해서 풀이\n",
    "\n",
    "func twoSum(nums []int, target int) []int {\n",
    "    numsMap := make(map[int]int)\n",
    "\n",
    "    // 키와 값을 바꿔서 딕셔너리로 저장\n",
    "    for i, num := range nums {\n",
    "        numsMap[num] = i\n",
    "    }\n",
    "\n",
    "    // 타겟에서 첫 번째 수를 뺀 결과를 키로 조회\n",
    "    for i, num := range nums {\n",
    "        if j, ok := numsMap[target-num]; ok && i != j {\n",
    "            return []int{i, j}\n",
    "        }\n",
    "    }\n",
    "\n",
    "    return []int{}\n",
    "}"
   ]
  },
  {
   "cell_type": "markdown",
   "metadata": {},
   "source": [
    "## 08 ) 빗물 트래핑\n",
    "\n",
    "높이를 입력받아 비 온 후 얼마나 많은 물이 쌓일 수 있는지 계산하라"
   ]
  },
  {
   "cell_type": "code",
   "execution_count": 3,
   "metadata": {},
   "outputs": [
    {
     "name": "stdout",
     "output_type": "stream",
     "text": [
      "6\n"
     ]
    }
   ],
   "source": [
    "rain=[0,1,0,2,1,0,3,2,1,2,1]\n",
    "place=0\n",
    "\n",
    "for i in range(1,len(rain)):\n",
    "    if rain[place]<rain[i]:\n",
    "        place=i\n",
    "\n",
    "for i in range(place):\n",
    "    "
   ]
  },
  {
   "cell_type": "markdown",
   "metadata": {},
   "source": [
    "## <span style=\"color:red\">09 ) 세 수의 합</span>\n",
    "배열을 입력받아 합으로 0을 만들 수 있는 3개의 원소를 출력해라\n",
    "\n",
    "<span style=\"color:red\">2021-07-27 time limit exceeded</span>"
   ]
  },
  {
   "cell_type": "code",
   "execution_count": 38,
   "metadata": {},
   "outputs": [
    {
     "ename": "NameError",
     "evalue": "name 'List' is not defined",
     "output_type": "error",
     "traceback": [
      "\u001b[1;31m---------------------------------------------------------------------------\u001b[0m",
      "\u001b[1;31mNameError\u001b[0m                                 Traceback (most recent call last)",
      "\u001b[1;32m<ipython-input-38-539de244262c>\u001b[0m in \u001b[0;36m<module>\u001b[1;34m\u001b[0m\n\u001b[0;32m      1\u001b[0m \u001b[1;31m#runtime error\u001b[0m\u001b[1;33m\u001b[0m\u001b[1;33m\u001b[0m\u001b[1;33m\u001b[0m\u001b[0m\n\u001b[0;32m      2\u001b[0m \u001b[1;33m\u001b[0m\u001b[0m\n\u001b[1;32m----> 3\u001b[1;33m \u001b[1;32mclass\u001b[0m \u001b[0mSolution\u001b[0m\u001b[1;33m:\u001b[0m\u001b[1;33m\u001b[0m\u001b[1;33m\u001b[0m\u001b[0m\n\u001b[0m\u001b[0;32m      4\u001b[0m     \u001b[1;32mdef\u001b[0m \u001b[0mthreeSum\u001b[0m\u001b[1;33m(\u001b[0m\u001b[0mself\u001b[0m\u001b[1;33m,\u001b[0m \u001b[0mnums\u001b[0m\u001b[1;33m:\u001b[0m \u001b[0mList\u001b[0m\u001b[1;33m[\u001b[0m\u001b[0mint\u001b[0m\u001b[1;33m]\u001b[0m\u001b[1;33m)\u001b[0m \u001b[1;33m->\u001b[0m \u001b[0mList\u001b[0m\u001b[1;33m[\u001b[0m\u001b[0mList\u001b[0m\u001b[1;33m[\u001b[0m\u001b[0mint\u001b[0m\u001b[1;33m]\u001b[0m\u001b[1;33m]\u001b[0m\u001b[1;33m:\u001b[0m\u001b[1;33m\u001b[0m\u001b[1;33m\u001b[0m\u001b[0m\n\u001b[0;32m      5\u001b[0m         \u001b[0mnums\u001b[0m\u001b[1;33m.\u001b[0m\u001b[0msort\u001b[0m\u001b[1;33m(\u001b[0m\u001b[1;33m)\u001b[0m\u001b[1;33m\u001b[0m\u001b[1;33m\u001b[0m\u001b[0m\n",
      "\u001b[1;32m<ipython-input-38-539de244262c>\u001b[0m in \u001b[0;36mSolution\u001b[1;34m()\u001b[0m\n\u001b[0;32m      2\u001b[0m \u001b[1;33m\u001b[0m\u001b[0m\n\u001b[0;32m      3\u001b[0m \u001b[1;32mclass\u001b[0m \u001b[0mSolution\u001b[0m\u001b[1;33m:\u001b[0m\u001b[1;33m\u001b[0m\u001b[1;33m\u001b[0m\u001b[0m\n\u001b[1;32m----> 4\u001b[1;33m     \u001b[1;32mdef\u001b[0m \u001b[0mthreeSum\u001b[0m\u001b[1;33m(\u001b[0m\u001b[0mself\u001b[0m\u001b[1;33m,\u001b[0m \u001b[0mnums\u001b[0m\u001b[1;33m:\u001b[0m \u001b[0mList\u001b[0m\u001b[1;33m[\u001b[0m\u001b[0mint\u001b[0m\u001b[1;33m]\u001b[0m\u001b[1;33m)\u001b[0m \u001b[1;33m->\u001b[0m \u001b[0mList\u001b[0m\u001b[1;33m[\u001b[0m\u001b[0mList\u001b[0m\u001b[1;33m[\u001b[0m\u001b[0mint\u001b[0m\u001b[1;33m]\u001b[0m\u001b[1;33m]\u001b[0m\u001b[1;33m:\u001b[0m\u001b[1;33m\u001b[0m\u001b[1;33m\u001b[0m\u001b[0m\n\u001b[0m\u001b[0;32m      5\u001b[0m         \u001b[0mnums\u001b[0m\u001b[1;33m.\u001b[0m\u001b[0msort\u001b[0m\u001b[1;33m(\u001b[0m\u001b[1;33m)\u001b[0m\u001b[1;33m\u001b[0m\u001b[1;33m\u001b[0m\u001b[0m\n\u001b[0;32m      6\u001b[0m         \u001b[0mcheck\u001b[0m\u001b[1;33m=\u001b[0m\u001b[1;33m[\u001b[0m\u001b[1;33m]\u001b[0m\u001b[1;33m\u001b[0m\u001b[1;33m\u001b[0m\u001b[0m\n",
      "\u001b[1;31mNameError\u001b[0m: name 'List' is not defined"
     ]
    }
   ],
   "source": [
    "# Time Limit Exceeded\n",
    "\n",
    "class Solution:\n",
    "    def threeSum(self, nums: List[int]) -> List[List[int]]:\n",
    "        nums.sort()\n",
    "        check=[]\n",
    "        answer=[]\n",
    "        for i in range(len(nums)):\n",
    "            sum=0+nums[i]\n",
    "            for j in range(i+1,len(nums)):\n",
    "                if 0-(sum+nums[j]) in nums[j+1:]:\n",
    "                    check.append([nums[i],nums[j],0-(sum+nums[j])])\n",
    "        check.sort()\n",
    "        for a in range(len(check)-1):\n",
    "            if check[a]==check[a+1]:\n",
    "                continue\n",
    "            answer.append(check[a])\n",
    "        if len(check)!=0:\n",
    "            answer.append(check[len(check)-1])\n",
    "        return answer\n",
    "    "
   ]
  },
  {
   "attachments": {
    "image.png": {
     "image/png": "[encoded data removed]"
    }
   },
   "cell_type": "markdown",
   "metadata": {},
   "source": [
    "![image.png](attachment:image.png)"
   ]
  },
  {
   "cell_type": "code",
   "execution_count": null,
   "metadata": {},
   "outputs": [],
   "source": [
    "# Time Limit Exceeded\n",
    "\n",
    "class Solution:\n",
    "    def threeSum(self, nums: List[int]) -> List[List[int]]:\n",
    "        nums.sort()\n",
    "        check=[]\n",
    "        answer=[]\n",
    "        correct={}\n",
    "        answering=set()\n",
    "        for i in range(len(nums)):\n",
    "            sum=0+nums[i]\n",
    "            for j in range(i+1,len(nums)):\n",
    "                if 0-(sum+nums[j]) in nums[j+1:]:\n",
    "                    check.append([nums[i],nums[j],0-(sum+nums[j])])\n",
    "        answering=list(set(map(tuple,check)))\n",
    "        return answering"
   ]
  },
  {
   "cell_type": "code",
   "execution_count": null,
   "metadata": {},
   "outputs": [],
   "source": [
    "# 풀이 1 ) 브루트 포스로 계산\n",
    "# 타임 아웃 걸려 틀린 답으로 인지한다\n",
    "\n",
    "def threeSum(self, nums:List[int])->List[List[int]]:\n",
    "    result = []\n",
    "    nums.sort()\n",
    "    \n",
    "    for i in range(len(nums)-2):\n",
    "        if i > 0 and nums[i]==nums[i-1]:\n",
    "            continue\n",
    "        for j in range(i+1,len(nums)):\n",
    "            if j>i+1 and nums[j]==nums[j-1]:\n",
    "                continue\n",
    "            for k in range(j+1,len(nums)):\n",
    "                if k>j+1 and nums[k]==nums[k-1]:\n",
    "                    continue\n",
    "                if nums[i]+nums[j]+nums[k]==0:\n",
    "                    results.append([nums[i],nums[j],nums[k]])\n",
    "    return results"
   ]
  },
  {
   "cell_type": "code",
   "execution_count": null,
   "metadata": {},
   "outputs": [],
   "source": [
    "# 풀이 2 ) 투 포인터로 합 계산\n",
    "\n",
    "class Solution:\n",
    "    def threeSum(self, nums: List[int]) -> List[List[int]]:\n",
    "        results = []\n",
    "        nums.sort()\n",
    "\n",
    "        for i in range(len(nums) - 2):\n",
    "            # 중복된 값 건너뛰기\n",
    "            if i > 0 and nums[i] == nums[i - 1]:\n",
    "                continue\n",
    "\n",
    "            # 간격을 좁혀가며 합 `sum` 계산\n",
    "            left, right = i + 1, len(nums) - 1\n",
    "            while left < right:\n",
    "                sum = nums[i] + nums[left] + nums[right]\n",
    "                if sum < 0:\n",
    "                    left += 1\n",
    "                elif sum > 0:\n",
    "                    right -= 1\n",
    "                else:\n",
    "                    # `sum = 0`인 경우이므로 정답 및 스킵 처리\n",
    "                    results.append([nums[i], nums[left], nums[right]])\n",
    "                    \n",
    "                    #중복된 값 건너 뛰기 위해서 while 사용\n",
    "                    while left < right and nums[left] == nums[left + 1]:\n",
    "                        left += 1\n",
    "                    while left < right and nums[right] == nums[right - 1]:\n",
    "                        right -= 1\n",
    "                    left += 1\n",
    "                    right -= 1\n",
    "\n",
    "        return results"
   ]
  },
  {
   "cell_type": "markdown",
   "metadata": {},
   "source": [
    "## 10 ) 배열 파티션1\n",
    "n개의 페어를 이용한 min(a,b)의 합으로 만들 수 있는 가장 큰 수를 출력해라"
   ]
  },
  {
   "cell_type": "code",
   "execution_count": 47,
   "metadata": {},
   "outputs": [
    {
     "name": "stdout",
     "output_type": "stream",
     "text": [
      "9\n"
     ]
    }
   ],
   "source": [
    "nums = [6,2,6,5,1,2]\n",
    "nums.sort()\n",
    "\n",
    "sum=0\n",
    "for i in range(len(nums)//2):\n",
    "    sum+=min(nums[i*2],nums[i*2+1])\n",
    "print(sum)"
   ]
  },
  {
   "cell_type": "code",
   "execution_count": null,
   "metadata": {},
   "outputs": [],
   "source": [
    "# 풀이 1 ) 오름 차순 정렬\n",
    "\n",
    "class Solution:\n",
    "    def arrayPairSum(self, nums: List[int]) -> int:\n",
    "        sum = 0\n",
    "        pair = []\n",
    "        nums.sort()\n",
    "\n",
    "        for n in nums:\n",
    "            # 앞에서 부터 오름차순으로 페어를 만들어 합 계산\n",
    "            # 2개씩 리스트에 넣어서 계산하는 방식\n",
    "            pair.append(n)\n",
    "            if len(pair) == 2:\n",
    "                sum += min(pair)\n",
    "                pair = []\n",
    "\n",
    "        return sum"
   ]
  },
  {
   "cell_type": "code",
   "execution_count": null,
   "metadata": {},
   "outputs": [],
   "source": [
    "# 풀이 2 ) 짝수 번째 값 계산\n",
    "# 정렬하면 짝수번째)가 홀수번째보다 크기가 작아 짝수번을 더하면 된다\n",
    "\n",
    "class Solution:\n",
    "    def arrayPairSum(self, nums: List[int]) -> int:\n",
    "        sum = 0\n",
    "        nums.sort()\n",
    "\n",
    "        for i, n in enumerate(nums):\n",
    "            # 짝수 번째 값의 합 계산\n",
    "            if i % 2 == 0:\n",
    "                sum += n\n",
    "\n",
    "        return sum"
   ]
  },
  {
   "cell_type": "code",
   "execution_count": null,
   "metadata": {},
   "outputs": [],
   "source": [
    "# 풀이 3 ) 파이썬 다운 방식 > 슬라이싱 사용\n",
    "\n",
    "class Solution:\n",
    "    def arrayPairSum(self, nums: List[int]) -> int:\n",
    "        return sum(sorted(nums)[::2])\n",
    "    #정렬해서 슬라이싱 사용하여 짝수번째 계산"
   ]
  },
  {
   "cell_type": "markdown",
   "metadata": {},
   "source": [
    "## 11 ) 자신을 제외한 배열의 곱\n",
    "\n",
    "배열을 입력받아 output[i]가 자신을 제외한 나머지 모든 요소의 곱셈 결과가 되도록 출력하라"
   ]
  },
  {
   "cell_type": "code",
   "execution_count": 48,
   "metadata": {},
   "outputs": [
    {
     "name": "stdout",
     "output_type": "stream",
     "text": [
      "[24, 12, 8, 6]\n"
     ]
    }
   ],
   "source": [
    "nums=[1,2,3,4]\n",
    "answer=[]\n",
    "\n",
    "for i in range(len(nums)):\n",
    "    multiply=1\n",
    "    for j in range(len(nums)):\n",
    "        if nums[i]==nums[j]:\n",
    "            continue\n",
    "        multiply*=nums[j]\n",
    "    answer.append(multiply)\n",
    "\n"
   ]
  },
  {
   "cell_type": "markdown",
   "metadata": {},
   "source": [
    "## <span style=\"color:red\"> 12 ) 주식을 사고 팔기 가장 좋은 시점</span>\n",
    "한 번의 거래로 낼 수 있는 최대 이익을 산출하라\n",
    "\n",
    "<span style=\"color:red\">2021-07-27 타임아웃</span>"
   ]
  },
  {
   "cell_type": "code",
   "execution_count": 57,
   "metadata": {},
   "outputs": [
    {
     "name": "stdout",
     "output_type": "stream",
     "text": [
      "5\n"
     ]
    }
   ],
   "source": [
    "# 타임아웃\n",
    "\n",
    "nums=[7,1,5,3,6,4]\n",
    "maximum=0\n",
    "for b in range(0,len(nums)):\n",
    "    for a in range(b+1,len(nums)):\n",
    "        if nums[a]-nums[b]>maximum:\n",
    "            maximum=nums[a]-nums[b]\n",
    "print(maximum)"
   ]
  },
  {
   "cell_type": "code",
   "execution_count": 59,
   "metadata": {},
   "outputs": [
    {
     "name": "stdout",
     "output_type": "stream",
     "text": [
      "7 1\n"
     ]
    }
   ],
   "source": [
    "# 풀이 1 ) 브루트 포스로 계산 > 타임아웃\n",
    "\n",
    "class Solution:\n",
    "    def maxProfit(self, prices: List[int]) -> int:\n",
    "        max_price = 0\n",
    "\n",
    "        for i, price in enumerate(prices):\n",
    "            for j in range(i, len(prices)):\n",
    "                max_price = max(prices[j] - price, max_price)\n",
    "\n",
    "        return max_price"
   ]
  },
  {
   "cell_type": "code",
   "execution_count": null,
   "metadata": {},
   "outputs": [],
   "source": [
    "# 풀이 2 ) 저점과 현재 값과의 차이 계산\n",
    "\n",
    "class Solution:\n",
    "    def maxProfit(self, prices: List[int]) -> int:\n",
    "        profit = 0\n",
    "        min_price = sys.maxsize\n",
    "        #시스템이 사용할 수 있는 가장 높은 값\n",
    "\n",
    "        # 최소값과 최대값 계속 갱신\n",
    "        for price in prices:\n",
    "            min_price = min(min_price, price)\n",
    "            profit = max(profit, price - min_price)\n",
    "\n",
    "        return profit"
   ]
  }
 ],
 "metadata": {
  "kernelspec": {
   "display_name": "Python 3",
   "language": "python",
   "name": "python3"
  },
  "language_info": {
   "codemirror_mode": {
    "name": "ipython",
    "version": 3
   },
   "file_extension": ".py",
   "mimetype": "text/x-python",
   "name": "python",
   "nbconvert_exporter": "python",
   "pygments_lexer": "ipython3",
   "version": "3.8.5"
  }
 },
 "nbformat": 4,
 "nbformat_minor": 4
}
