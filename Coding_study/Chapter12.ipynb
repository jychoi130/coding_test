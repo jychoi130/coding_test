{
 "cells": [
  {
   "cell_type": "code",
   "execution_count": null,
   "metadata": {},
   "outputs": [],
   "source": [
    "#DFS 재귀 구현 \n",
    "\n",
    "def recursive_dfs(v,discovered=[]):\n",
    "    discovered.append(v)\n",
    "    for w in graph[v]:\n",
    "        if w not in discovered:\n",
    "            discovered = recursive_dfs(w,discovered)\n",
    "    return discovered\n",
    "\n",
    "#DFS 스택 구현\n",
    "\n",
    "def stack_dfs(start_v):\n",
    "    discovered = []\n",
    "    stack = [start_v]\n",
    "    while stack:\n",
    "        v = stack.pop()\n",
    "        if v not in discovered :\n",
    "            discovered.append(v)\n",
    "            for w in graph[v]:\n",
    "                stack.append(w)\n",
    "    return discovered"
   ]
  },
  {
   "cell_type": "code",
   "execution_count": 7,
   "metadata": {},
   "outputs": [
    {
     "name": "stdout",
     "output_type": "stream",
     "text": [
      "[1, 3, 2, 5, 4]\n"
     ]
    }
   ],
   "source": [
    "#DFS 구현\n",
    "# 스택 필요, 꺼내 올 변수 하나 필요, 방문 확인할 리스트 필요\n",
    "\n",
    "def dfs(graph) :\n",
    "    stack = []\n",
    "    visited = []\n",
    "    stack.append(1)\n",
    "    \n",
    "    while stack :\n",
    "        check = stack.pop()\n",
    "        visited.append(check)\n",
    "        for w in graph[check-1]:\n",
    "            if w not in visited :\n",
    "                stack.append(w)\n",
    "    \n",
    "    print(visited)\n",
    "                \n",
    "graph = [\n",
    "    [2,3],[1,4,5],[1],[2],[2]\n",
    "]\n",
    "\n",
    "dfs(graph)\n"
   ]
  },
  {
   "cell_type": "code",
   "execution_count": 6,
   "metadata": {},
   "outputs": [
    {
     "name": "stdout",
     "output_type": "stream",
     "text": [
      "[1, 2, 3, 4, 5]\n"
     ]
    }
   ],
   "source": [
    "# BFS \n",
    "# 큐 필요, visited, check\n",
    "\n",
    "def bfs(graph) :\n",
    "    queue = []\n",
    "    answer = []\n",
    "    visited = []\n",
    "    \n",
    "    queue.append(1)\n",
    "    \n",
    "    while queue : \n",
    "        check = queue.pop(0)\n",
    "        visited.append(check)\n",
    "        for w in graph[check-1] : \n",
    "            if w not in visited : \n",
    "                queue.append(w)\n",
    "    print(visited)\n",
    "    \n",
    "graph = [\n",
    "    [2,3],[1,4,5],[1],[2],[2]\n",
    "]\n",
    "\n",
    "bfs(graph)"
   ]
  },
  {
   "cell_type": "markdown",
   "metadata": {},
   "source": [
    "### 32 ) 섬의 개수\n",
    "1을 육지로 0을 물로 가정한 2D 그리드맵이 주어졌을때 섬의 개수를 계산하라. (연결되어있는 1의 덩어리 개수를 구해라)  \n",
    "__2021.09.27__"
   ]
  },
  {
   "cell_type": "markdown",
   "metadata": {},
   "source": [
    "__해결 못했음__"
   ]
  },
  {
   "cell_type": "code",
   "execution_count": null,
   "metadata": {},
   "outputs": [],
   "source": [
    "class Solution(object):\n",
    "    def numIslands(self, grid):\n",
    "        \"\"\"\n",
    "        :type grid: List[List[str]]\n",
    "        :rtype: int\n",
    "        \"\"\"\n",
    "        def dfs(i, j):\n",
    "            # 더 이상 땅이 아닌 경우 종료\n",
    "            if i < 0 or i >= len(grid) or \\ #지도를 벗어나는 경우\n",
    "                    j < 0 or j >= len(grid[0]) or \\ #지도를 벗어나는 경우\n",
    "                    grid[i][j] != '1': # 땅이 아닌 경우\n",
    "                return\n",
    "\n",
    "            grid[i][j] = 0 #만약 땅 즉, 1인경우 0으로 바꿔준다\n",
    "            # 재 탐색 방지하려고 하는 것 같음\n",
    "\n",
    "            # 동서남북 탐색\n",
    "            dfs(i + 1, j) # 남\n",
    "            dfs(i - 1, j) # 북\n",
    "            dfs(i, j + 1) # 동\n",
    "            dfs(i, j - 1) # 서\n",
    "\n",
    "        count = 0\n",
    "        for i in range(len(grid)):\n",
    "            for j in range(len(grid[0])):\n",
    "                if grid[i][j] == '1':\n",
    "                    dfs(i, j)\n",
    "                    # 모든 육지 탐색 후 카운트 1 증가\n",
    "                    count += 1\n",
    "        return count"
   ]
  },
  {
   "cell_type": "markdown",
   "metadata": {},
   "source": [
    "### 33 ) 전화 번호 문자 조합\n",
    "2-9까지 숫자가 주어졌을 때 전화 번호로 조합 가능한 모든 문자를 출력하라.  \n",
    "__2021.09.27__"
   ]
  },
  {
   "cell_type": "markdown",
   "metadata": {},
   "source": [
    "__해결 못했음__"
   ]
  },
  {
   "cell_type": "markdown",
   "metadata": {},
   "source": [
    "__설명도 이해 못함__"
   ]
  },
  {
   "cell_type": "code",
   "execution_count": null,
   "metadata": {},
   "outputs": [],
   "source": [
    "class Solution(object):\n",
    "    def letterCombinations(self, digits):\n",
    "        \"\"\"\n",
    "        :type digits: str\n",
    "        :rtype: List[str]\n",
    "        \"\"\"\n",
    "        def dfs(index, path):\n",
    "            # 끝까지 탐색하면 백트래킹\n",
    "            if len(path) == len(digits):\n",
    "                result.append(path)\n",
    "                #길이 확인해서 결과에 삽입\n",
    "                return\n",
    "\n",
    "            # 입력값 자릿수 단위 반복\n",
    "            for i in range(index, len(digits)):\n",
    "                # 숫자에 해당하는 모든 문자열 반복\n",
    "                for j in dic[digits[i]]:\n",
    "                    dfs(i + 1, path + j)\n",
    "                    #(1,'a')이런식으로 다시 넣어줌\n",
    "                    #끝나고 다시 (0,\"\")로 돌아감\n",
    "                    #그 후 b로 간다\n",
    "\n",
    "        # 예외 처리\n",
    "        if not digits:\n",
    "            return []\n",
    "\n",
    "        dic = {\"2\": \"abc\", \"3\": \"def\", \"4\": \"ghi\", \"5\": \"jkl\",\n",
    "               \"6\": \"mno\", \"7\": \"pqrs\", \"8\": \"tuv\", \"9\": \"wxyz\"}\n",
    "        result = []\n",
    "        dfs(0, \"\")\n",
    "\n",
    "        return result\n",
    "        \n",
    "        "
   ]
  },
  {
   "cell_type": "markdown",
   "metadata": {},
   "source": [
    "### 34 ) 순열\n",
    "서로 다른 정수를 입력받아 가능한 모든 순열을 리턴하라.  \n",
    "__2021.09.28__"
   ]
  },
  {
   "cell_type": "markdown",
   "metadata": {},
   "source": [
    "__해결 못했음__"
   ]
  },
  {
   "cell_type": "markdown",
   "metadata": {},
   "source": [
    "__해설도 이해 못함__"
   ]
  },
  {
   "cell_type": "code",
   "execution_count": null,
   "metadata": {},
   "outputs": [],
   "source": [
    "import itertools\n",
    "\n",
    "class Solution:\n",
    "    def permute(self, nums: List[int]) -> List[List[int]]:\n",
    "        return list(itertools.permutations(nums))"
   ]
  },
  {
   "cell_type": "code",
   "execution_count": null,
   "metadata": {},
   "outputs": [],
   "source": [
    "import itertools\n",
    "\n",
    "class Solution(object):\n",
    "    def permute(self, nums):\n",
    "        \"\"\"\n",
    "        :type nums: List[int]\n",
    "        :rtype: List[List[int]]\n",
    "        \"\"\"\n",
    "        results = []\n",
    "        prev_elements = []\n",
    "\n",
    "        def dfs(elements):\n",
    "            # 리프 노드일때 결과 추가\n",
    "            if len(elements) == 0:\n",
    "                results.append(prev_elements[:])\n",
    "                \n",
    "            # 순열 생성 재귀 호출\n",
    "            for e in elements:\n",
    "                next_elements = elements[:] #next에 전체 넣음\n",
    "                next_elements.remove(e) #e 제외 입력\n",
    "\n",
    "                prev_elements.append(e) #prev에 e입력\n",
    "                dfs(next_elements) #next로 재시작\n",
    "                prev_elements.pop() #뒤에서 부터 빼서 백트랙킹 진행\n",
    "\n",
    "        dfs(nums)\n",
    "        return results"
   ]
  },
  {
   "cell_type": "markdown",
   "metadata": {},
   "source": [
    "### 35 ) 조합\n",
    "전체 수 n을 입력받아 k개의 조합을 리턴하라.  \n",
    "__2021.09.28__"
   ]
  },
  {
   "cell_type": "markdown",
   "metadata": {},
   "source": [
    "__해설 확인 함__"
   ]
  },
  {
   "cell_type": "code",
   "execution_count": null,
   "metadata": {},
   "outputs": [],
   "source": [
    "import itertools\n",
    "\n",
    "class Solution(object):\n",
    "    def combine(self, n, k):\n",
    "        \"\"\"\n",
    "        :type n: int\n",
    "        :type k: int\n",
    "        :rtype: List[List[int]]\n",
    "        \"\"\"\n",
    "        #return list(itertools.combinations(range(1, n + 1), k))\n",
    "        \n",
    "        result = []\n",
    "        \n",
    "        def dfs(ele, start : int, k : int):\n",
    "            if k == 0 :\n",
    "                result.append(ele[:])\n",
    "                return\n",
    "            \n",
    "            for i in range(start,n+1):\n",
    "                ele.append(i)\n",
    "                dfs(ele,i+1,k-1)\n",
    "                ele.pop()\n",
    "                \n",
    "        dfs([],1,k)\n",
    "        return result"
   ]
  },
  {
   "cell_type": "markdown",
   "metadata": {},
   "source": [
    "### 36 ) 조합의 합\n",
    "숫자 집합을 조합하여 합이 target이 되는 원소를 나열하라. 각 원소는 중복으로 나열 가능하다.  \n",
    "__2021.09.28__"
   ]
  },
  {
   "cell_type": "code",
   "execution_count": null,
   "metadata": {},
   "outputs": [],
   "source": [
    "class Solution(object):\n",
    "    def combinationSum(self, candidates, target):\n",
    "        \"\"\"\n",
    "        :type candidates: List[int]\n",
    "        :type target: int\n",
    "        :rtype: List[List[int]]\n",
    "        \"\"\"\n",
    "        result = []\n",
    "        \n",
    "        def repeat(ele, t, x, s) :\n",
    "            tar = t\n",
    "            if tar == 0 :\n",
    "                print(\"check1\")\n",
    "                result.append(ele[:])\n",
    "                ele = []\n",
    "                return\n",
    "                   \n",
    "            elif tar < candidates[a]:\n",
    "                print(\"too small\")\n",
    "                return\n",
    "            \n",
    "            #elif tar < candidates[s]:\n",
    "            #   print(\"check2\",tar, candidates[s])\n",
    "            #   return \n",
    "                        \n",
    "            else :\n",
    "                print(\"check3\",tar, s)\n",
    "                for i in range(s,a+1):\n",
    "                    print(\"check4\",candidates[i])\n",
    "                    tar -= candidates[i]\n",
    "                    ele.append(candidates[i])\n",
    "                    repeat(ele,tar,candidates[i],i)\n",
    "                    tar = t\n",
    "                    if ele:\n",
    "                        ele.pop()\n",
    "       \n",
    "        a = len(candidates)-1\n",
    "        candidates.sort(reverse=True)\n",
    "        repeat([], target, candidates[0], 0)\n",
    "        \n",
    "        return result"
   ]
  },
  {
   "cell_type": "markdown",
   "metadata": {},
   "source": [
    "### 37 ) 부분 집합\n",
    "__2021.09.29__"
   ]
  },
  {
   "cell_type": "code",
   "execution_count": null,
   "metadata": {},
   "outputs": [],
   "source": []
  },
  {
   "cell_type": "markdown",
   "metadata": {},
   "source": [
    "### 38 ) 일정 재구성\n",
    "__2021.09.29__"
   ]
  },
  {
   "cell_type": "code",
   "execution_count": null,
   "metadata": {},
   "outputs": [],
   "source": []
  },
  {
   "cell_type": "markdown",
   "metadata": {},
   "source": [
    "### 39 ) 코스 스케줄\n",
    "__2021.09.29__"
   ]
  },
  {
   "cell_type": "code",
   "execution_count": null,
   "metadata": {},
   "outputs": [],
   "source": []
  }
 ],
 "metadata": {
  "kernelspec": {
   "display_name": "Python 3",
   "language": "python",
   "name": "python3"
  },
  "language_info": {
   "codemirror_mode": {
    "name": "ipython",
    "version": 3
   },
   "file_extension": ".py",
   "mimetype": "text/x-python",
   "name": "python",
   "nbconvert_exporter": "python",
   "pygments_lexer": "ipython3",
   "version": "3.6.10"
  }
 },
 "nbformat": 4,
 "nbformat_minor": 4
}
