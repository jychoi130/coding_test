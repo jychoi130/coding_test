{
 "cells": [
  {
   "cell_type": "markdown",
   "metadata": {},
   "source": [
    "### 28 ) 해시맵 디자인  \n",
    "다음의 기능을 제공하는 해시맵을 디자인하라  \n",
    "__2021.09.18__\n",
    "- put(key,value) : 키, 값을 해시맵에 삽입한다. 만약 이미 존재하는 키라면 업데이트한다\n",
    "- get(key) : 키에 해당하는 값을 조회한다. 키가 존재하지 않는 경우 -1을 리턴한다.\n",
    "- remove(key) : 키에 해당하는 키, 값을 해시맵에서 삭제한다"
   ]
  },
  {
   "cell_type": "code",
   "execution_count": 1,
   "metadata": {},
   "outputs": [],
   "source": [
    "class MyHashMap(object):\n",
    "\n",
    "    def __init__(self):\n",
    "        \"\"\"\n",
    "        Initialize your data structure here.\n",
    "        \"\"\"\n",
    "        self.k=[]\n",
    "        self.val=[]\n",
    "        \n",
    "            \n",
    "\n",
    "    def put(self, key, value):\n",
    "        \"\"\"\n",
    "        value will always be non-negative.\n",
    "        :type key: int\n",
    "        :type value: int\n",
    "        :rtype: None\n",
    "        \"\"\"\n",
    "        if key in self.k:\n",
    "            ind = self.k.index(key)\n",
    "            self.val[ind]=value\n",
    "        else :\n",
    "            self.k.append(key)\n",
    "            self.val.append(value)\n",
    "\n",
    "    def get(self, key):\n",
    "        \"\"\"\n",
    "        Returns the value to which the specified key is mapped, or -1 if this map contains no mapping for the key\n",
    "        :type key: int\n",
    "        :rtype: int\n",
    "        \"\"\"\n",
    "        if key in self.k:\n",
    "            ind = self.k.index(key)\n",
    "            return self.val[ind]\n",
    "        else : return -1\n",
    "\n",
    "    def remove(self, key):\n",
    "        \"\"\"\n",
    "        Removes the mapping of the specified value key if this map contains a mapping for the key\n",
    "        :type key: int\n",
    "        :rtype: None\n",
    "        \"\"\"\n",
    "        global ind #global 붙이지 않ㅎ을 경우 에러뜸\n",
    "        if key in self.k:\n",
    "            ind=self.k.index(key)\n",
    "        else : return -1\n",
    "        del self.k[ind]\n",
    "        del self.val[ind]\n",
    "\n",
    "\n",
    "# Your MyHashMap object will be instantiated and called as such:\n",
    "# obj = MyHashMap()\n",
    "# obj.put(key,value)\n",
    "# param_2 = obj.get(key)\n",
    "# obj.remove(key)"
   ]
  },
  {
   "cell_type": "markdown",
   "metadata": {},
   "source": [
    "__global 에러 떠서 해결 https://sikaleo.tistory.com/99__"
   ]
  },
  {
   "cell_type": "markdown",
   "metadata": {},
   "source": [
    "### 29 ) 보석과 돌  \n",
    "J는 보석이며, S는 갖고 있는 돌이다. S에는 보석이 몇개나 있을까? (대소문자 구분함)  \n",
    "__2021.09.18__"
   ]
  },
  {
   "cell_type": "code",
   "execution_count": null,
   "metadata": {},
   "outputs": [],
   "source": [
    "class Solution(object):\n",
    "    def numJewelsInStones(self, jewels, stones):\n",
    "        \"\"\"\n",
    "        :type jewels: str\n",
    "        :type stones: str\n",
    "        :rtype: int\n",
    "        \"\"\"\n",
    "        \n",
    "        jewel=[]\n",
    "        stone=[]\n",
    "        \n",
    "        for i in jewels:\n",
    "            jewel.append(i)\n",
    "        for i in stones:\n",
    "            stone.append(i)\n",
    "        \n",
    "        count=0\n",
    "        for i in stone:\n",
    "            count+= jewel.count(i)\n",
    "        \n",
    "        return count"
   ]
  },
  {
   "cell_type": "markdown",
   "metadata": {},
   "source": [
    "### 30 ) 중복 문자 없는 가장 긴 부분 문자열\n",
    "중복 문자가 없는 가장 긴 부분 문자열의 길이를 리턴하라  \n",
    "__2021.09.18__"
   ]
  },
  {
   "cell_type": "markdown",
   "metadata": {},
   "source": [
    "__해결못함__"
   ]
  },
  {
   "cell_type": "code",
   "execution_count": null,
   "metadata": {},
   "outputs": [],
   "source": []
  }
 ],
 "metadata": {
  "kernelspec": {
   "display_name": "Python 3",
   "language": "python",
   "name": "python3"
  },
  "language_info": {
   "codemirror_mode": {
    "name": "ipython",
    "version": 3
   },
   "file_extension": ".py",
   "mimetype": "text/x-python",
   "name": "python",
   "nbconvert_exporter": "python",
   "pygments_lexer": "ipython3",
   "version": "3.6.10"
  }
 },
 "nbformat": 4,
 "nbformat_minor": 4
}
