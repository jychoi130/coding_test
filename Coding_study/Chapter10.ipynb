{
 "cells": [
  {
   "cell_type": "markdown",
   "metadata": {},
   "source": [
    "### 26 ) 원형 데크 디자인  \n",
    "다음 연산을 제공하는 원형 데크를 구현하라  \n",
    "__2021.09.17__\n",
    "1. MyCircularDeque : 데크사이즈를 받아서 지정\n",
    "2. insertFront : 데크 처음에 아이템 추가, 성공시 true 리턴\n",
    "3. insertLast \n",
    "4. deleteFront\n",
    "5. deleteLast\n",
    "6. getFront : 데크 첫 번째 아이템을 가져온다. 비어있는 경우 -1 리턴\n",
    "7. getRear\n",
    "8. isEmpty\n",
    "9. isFull"
   ]
  },
  {
   "cell_type": "markdown",
   "metadata": {},
   "source": [
    "__못풀어서 해설 확인__"
   ]
  },
  {
   "cell_type": "code",
   "execution_count": null,
   "metadata": {},
   "outputs": [],
   "source": []
  },
  {
   "cell_type": "markdown",
   "metadata": {},
   "source": [
    "### 27 ) k개 정렬 리스트 병합  \n",
    "k개의 정렬된 리스트를 1개의 정렬된 리스트로 병합하라.  \n",
    "__2021.09.17__"
   ]
  },
  {
   "cell_type": "code",
   "execution_count": null,
   "metadata": {},
   "outputs": [],
   "source": [
    "# Definition for singly-linked list.\n",
    "# class ListNode(object):\n",
    "#     def __init__(self, val=0, next=None):\n",
    "#         self.val = val\n",
    "#         self.next = next\n",
    "class Solution(object):\n",
    "    def mergeKLists(self, lists):\n",
    "        \"\"\"\n",
    "        :type lists: List[ListNode]\n",
    "        :rtype: ListNode\n",
    "        \"\"\"       \n",
    "        li=[]\n",
    "        #print(lists)\n",
    "        \n",
    "        if not lists:\n",
    "            print(lists)\n",
    "            return None\n",
    "        for i in lists:\n",
    "            count = 0\n",
    "            while i:\n",
    "                count+=1\n",
    "                li.append(i.val)\n",
    "                i=i.next\n",
    "        li.sort()\n",
    "        if len(li)<1:\n",
    "            return None\n",
    "        sub = ListNode(li[0])        \n",
    "        tail=sub\n",
    "        e=1\n",
    "        \n",
    "        while e<len(li):\n",
    "            tail.next=ListNode(li[e])\n",
    "            tail=tail.next\n",
    "            e+=1\n",
    "            \n",
    "        return sub"
   ]
  }
 ],
 "metadata": {
  "kernelspec": {
   "display_name": "Python 3",
   "language": "python",
   "name": "python3"
  },
  "language_info": {
   "codemirror_mode": {
    "name": "ipython",
    "version": 3
   },
   "file_extension": ".py",
   "mimetype": "text/x-python",
   "name": "python",
   "nbconvert_exporter": "python",
   "pygments_lexer": "ipython3",
   "version": "3.6.10"
  }
 },
 "nbformat": 4,
 "nbformat_minor": 4
}
