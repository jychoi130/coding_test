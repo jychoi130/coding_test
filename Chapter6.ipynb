{
 "cells": [
  {
   "cell_type": "markdown",
   "metadata": {},
   "source": [
    "# 2021/07/21 "
   ]
  },
  {
   "cell_type": "markdown",
   "metadata": {},
   "source": [
    "## 1) 유효한 팬린드롬\n",
    "\n",
    "#### 앞뒤가 똑같은 단어나 문장으로, 뒤집어도 같은 말이 되는 단어/문장"
   ]
  },
  {
   "cell_type": "markdown",
   "metadata": {},
   "source": [
    "list 추가 > append 사용\n",
    "list 공백 제거 > replace\n",
    "리스트 내부 요소들 하나의 문자열로 > join"
   ]
  },
  {
   "cell_type": "code",
   "execution_count": 65,
   "metadata": {
    "scrolled": false
   },
   "outputs": [
    {
     "name": "stdout",
     "output_type": "stream",
     "text": [
      "문자열을 입력하세요: \n",
      "a Man, a plan, a canal: panama\n",
      "['a', 'm', 'a', 'n', 'a', 'p', 'l', 'a', 'n', 'a', 'c', 'a', 'n', 'a', 'l', 'p', 'a', 'n', 'a', 'm', 'a']\n",
      "['a', 'm', 'a', 'n', 'a', 'p', 'l', 'a', 'n', 'a', 'c', 'a', 'n', 'a', 'l', 'p', 'a', 'n', 'a', 'm', 'a']\n",
      "true\n"
     ]
    }
   ],
   "source": [
    "string = []\n",
    "\n",
    "string=input()\n",
    "str1=[]\n",
    "str2=[]\n",
    "#문자열 입력 받음\n",
    "\n",
    "for char in string:\n",
    "    if char.isalnum():\n",
    "        str2.append(char.lower())\n",
    "\n",
    "length=len(str2)-1\n",
    "\n",
    "for i in range (0,length+1):\n",
    "    if (string[length-1]).isalnum():\n",
    "        str1.append(str2[length-i])\n",
    "    i+=1\n",
    "    \n",
    "if(str2==str1):\n",
    "    print(\"true\")\n",
    "else:\n",
    "    print(\"false\")    "
   ]
  },
  {
   "cell_type": "code",
   "execution_count": null,
   "metadata": {},
   "outputs": [],
   "source": [
    "a Man, a plan, a canal: panama\n"
   ]
  },
  {
   "cell_type": "code",
   "execution_count": 55,
   "metadata": {},
   "outputs": [
    {
     "name": "stdout",
     "output_type": "stream",
     "text": [
      "a Man, a plan, a canal: panama\n",
      "true\n"
     ]
    }
   ],
   "source": [
    "#풀이 답안1 > 리스트 활용\n",
    "\n",
    "def isPalindrome(self, s:str)->bool:\n",
    "    strs=[]\n",
    "    for char in s: \n",
    "        if char.isalnum(): #alphabet인 경우만\n",
    "            strs.append(char.lower()) #소문자로 변경해서 넣는다\n",
    "            \n",
    "    while len(strs)>1: \n",
    "        if strs.pop(0)!=strs.pop(): #첫 번째 글자와 마지막 글자 비교해 다르면\n",
    "            return False #False \n",
    "        \n",
    "    return True\n",
    "\n",
    "#확인 위한 코드\n",
    "string=input()\n",
    "if isPalindrome(string,string):\n",
    "    print(\"true\")\n",
    "else: print(\"false\")\n",
    "\n",
    "#풀이 답안2 > 데크 자료형을 이용한 최적화\n",
    "#1번과 같은 풀이 방법을 deque 사용\n",
    "\n",
    "def isPalindrome(self, s:str)->bool:\n",
    "    strs:Deque=collections.deque()\n",
    "    \n",
    "    for char in s:\n",
    "        if char.isalnum():\n",
    "            strs.append(char.lower())\n",
    "            \n",
    "    while len(strs)>1:\n",
    "        if strs.popleft()!=strs.pop():\n",
    "            return False\n",
    "        \n",
    "    return True\n",
    "\n",
    "#풀이 답안3> 슬라이싱 사용\n",
    "\n",
    "def isPalindrome(self, s:str)-> bool:\n",
    "    s=s.lower()\n",
    "    s=re.sub('[^a-z0-9]','',s)\n",
    "    #re.sub > 문자열 바꾸는데 활용\n",
    "    #https://dojang.io/mod/page/view.php?id=2438\n",
    "    \n",
    "    return s==s[::-1] #문자열을 뒤집어준다\n",
    "            #s[::2] > 2칸씩 앞으로 이동한다"
   ]
  },
  {
   "cell_type": "markdown",
   "metadata": {},
   "source": [
    "## 2) 문자열 뒤집기"
   ]
  },
  {
   "cell_type": "code",
   "execution_count": 91,
   "metadata": {
    "scrolled": true
   },
   "outputs": [
    {
     "name": "stdout",
     "output_type": "stream",
     "text": [
      "['o', 'l', 'l', 'e', 'h']\n"
     ]
    }
   ],
   "source": [
    "s=[\"h\",\"e\",\"l\",\"l\",\"o\"]\n",
    "for i in range(0,len(s)//2):\n",
    "    temp=s[i]\n",
    "    s[i]=s[len(s)-1-i]\n",
    "    s[len(s)-1-i]=temp\n",
    "print(s)"
   ]
  },
  {
   "cell_type": "code",
   "execution_count": 92,
   "metadata": {},
   "outputs": [
    {
     "ename": "TypeError",
     "evalue": "Parameters to generic types must be types. Got <filter object at 0x000001A4688793A0>.",
     "output_type": "error",
     "traceback": [
      "\u001b[1;31m---------------------------------------------------------------------------\u001b[0m",
      "\u001b[1;31mTypeError\u001b[0m                                 Traceback (most recent call last)",
      "\u001b[1;32m<ipython-input-92-f94aa8e3f2ba>\u001b[0m in \u001b[0;36m<module>\u001b[1;34m\u001b[0m\n\u001b[0;32m      1\u001b[0m \u001b[1;31m# 풀이 1) 포인터 이용한 스왑\u001b[0m\u001b[1;33m\u001b[0m\u001b[1;33m\u001b[0m\u001b[1;33m\u001b[0m\u001b[0m\n\u001b[0;32m      2\u001b[0m \u001b[1;33m\u001b[0m\u001b[0m\n\u001b[1;32m----> 3\u001b[1;33m \u001b[1;32mdef\u001b[0m \u001b[0mreverseString\u001b[0m\u001b[1;33m(\u001b[0m\u001b[0mself\u001b[0m\u001b[1;33m,\u001b[0m \u001b[0ms\u001b[0m\u001b[1;33m:\u001b[0m\u001b[0mList\u001b[0m\u001b[1;33m[\u001b[0m\u001b[0mstr\u001b[0m\u001b[1;33m]\u001b[0m\u001b[1;33m)\u001b[0m\u001b[1;33m->\u001b[0m\u001b[1;32mNone\u001b[0m\u001b[1;33m:\u001b[0m\u001b[1;33m\u001b[0m\u001b[1;33m\u001b[0m\u001b[0m\n\u001b[0m\u001b[0;32m      4\u001b[0m     \u001b[0mleft\u001b[0m\u001b[1;33m,\u001b[0m\u001b[0mright\u001b[0m\u001b[1;33m=\u001b[0m\u001b[1;36m0\u001b[0m\u001b[1;33m,\u001b[0m \u001b[0mlen\u001b[0m\u001b[1;33m(\u001b[0m\u001b[0ms\u001b[0m\u001b[1;33m)\u001b[0m\u001b[1;33m-\u001b[0m\u001b[1;36m1\u001b[0m\u001b[1;33m\u001b[0m\u001b[1;33m\u001b[0m\u001b[0m\n\u001b[0;32m      5\u001b[0m     \u001b[1;32mwhile\u001b[0m \u001b[0mleft\u001b[0m\u001b[1;33m<\u001b[0m\u001b[0mright\u001b[0m\u001b[1;33m:\u001b[0m\u001b[1;33m\u001b[0m\u001b[1;33m\u001b[0m\u001b[0m\n",
      "\u001b[1;32mC:\\ProgramData\\Anaconda3\\lib\\typing.py\u001b[0m in \u001b[0;36minner\u001b[1;34m(*args, **kwds)\u001b[0m\n\u001b[0;32m    259\u001b[0m         \u001b[1;32mexcept\u001b[0m \u001b[0mTypeError\u001b[0m\u001b[1;33m:\u001b[0m\u001b[1;33m\u001b[0m\u001b[1;33m\u001b[0m\u001b[0m\n\u001b[0;32m    260\u001b[0m             \u001b[1;32mpass\u001b[0m  \u001b[1;31m# All real errors (not unhashable args) are raised below.\u001b[0m\u001b[1;33m\u001b[0m\u001b[1;33m\u001b[0m\u001b[0m\n\u001b[1;32m--> 261\u001b[1;33m         \u001b[1;32mreturn\u001b[0m \u001b[0mfunc\u001b[0m\u001b[1;33m(\u001b[0m\u001b[1;33m*\u001b[0m\u001b[0margs\u001b[0m\u001b[1;33m,\u001b[0m \u001b[1;33m**\u001b[0m\u001b[0mkwds\u001b[0m\u001b[1;33m)\u001b[0m\u001b[1;33m\u001b[0m\u001b[1;33m\u001b[0m\u001b[0m\n\u001b[0m\u001b[0;32m    262\u001b[0m     \u001b[1;32mreturn\u001b[0m \u001b[0minner\u001b[0m\u001b[1;33m\u001b[0m\u001b[1;33m\u001b[0m\u001b[0m\n\u001b[0;32m    263\u001b[0m \u001b[1;33m\u001b[0m\u001b[0m\n",
      "\u001b[1;32mC:\\ProgramData\\Anaconda3\\lib\\typing.py\u001b[0m in \u001b[0;36m__getitem__\u001b[1;34m(self, params)\u001b[0m\n\u001b[0;32m    683\u001b[0m             \u001b[0mparams\u001b[0m \u001b[1;33m=\u001b[0m \u001b[1;33m(\u001b[0m\u001b[0mparams\u001b[0m\u001b[1;33m,\u001b[0m\u001b[1;33m)\u001b[0m\u001b[1;33m\u001b[0m\u001b[1;33m\u001b[0m\u001b[0m\n\u001b[0;32m    684\u001b[0m         \u001b[0mmsg\u001b[0m \u001b[1;33m=\u001b[0m \u001b[1;34m\"Parameters to generic types must be types.\"\u001b[0m\u001b[1;33m\u001b[0m\u001b[1;33m\u001b[0m\u001b[0m\n\u001b[1;32m--> 685\u001b[1;33m         \u001b[0mparams\u001b[0m \u001b[1;33m=\u001b[0m \u001b[0mtuple\u001b[0m\u001b[1;33m(\u001b[0m\u001b[0m_type_check\u001b[0m\u001b[1;33m(\u001b[0m\u001b[0mp\u001b[0m\u001b[1;33m,\u001b[0m \u001b[0mmsg\u001b[0m\u001b[1;33m)\u001b[0m \u001b[1;32mfor\u001b[0m \u001b[0mp\u001b[0m \u001b[1;32min\u001b[0m \u001b[0mparams\u001b[0m\u001b[1;33m)\u001b[0m\u001b[1;33m\u001b[0m\u001b[1;33m\u001b[0m\u001b[0m\n\u001b[0m\u001b[0;32m    686\u001b[0m         \u001b[0m_check_generic\u001b[0m\u001b[1;33m(\u001b[0m\u001b[0mself\u001b[0m\u001b[1;33m,\u001b[0m \u001b[0mparams\u001b[0m\u001b[1;33m)\u001b[0m\u001b[1;33m\u001b[0m\u001b[1;33m\u001b[0m\u001b[0m\n\u001b[0;32m    687\u001b[0m         \u001b[1;32mreturn\u001b[0m \u001b[0m_subs_tvars\u001b[0m\u001b[1;33m(\u001b[0m\u001b[0mself\u001b[0m\u001b[1;33m,\u001b[0m \u001b[0mself\u001b[0m\u001b[1;33m.\u001b[0m\u001b[0m__parameters__\u001b[0m\u001b[1;33m,\u001b[0m \u001b[0mparams\u001b[0m\u001b[1;33m)\u001b[0m\u001b[1;33m\u001b[0m\u001b[1;33m\u001b[0m\u001b[0m\n",
      "\u001b[1;32mC:\\ProgramData\\Anaconda3\\lib\\typing.py\u001b[0m in \u001b[0;36m<genexpr>\u001b[1;34m(.0)\u001b[0m\n\u001b[0;32m    683\u001b[0m             \u001b[0mparams\u001b[0m \u001b[1;33m=\u001b[0m \u001b[1;33m(\u001b[0m\u001b[0mparams\u001b[0m\u001b[1;33m,\u001b[0m\u001b[1;33m)\u001b[0m\u001b[1;33m\u001b[0m\u001b[1;33m\u001b[0m\u001b[0m\n\u001b[0;32m    684\u001b[0m         \u001b[0mmsg\u001b[0m \u001b[1;33m=\u001b[0m \u001b[1;34m\"Parameters to generic types must be types.\"\u001b[0m\u001b[1;33m\u001b[0m\u001b[1;33m\u001b[0m\u001b[0m\n\u001b[1;32m--> 685\u001b[1;33m         \u001b[0mparams\u001b[0m \u001b[1;33m=\u001b[0m \u001b[0mtuple\u001b[0m\u001b[1;33m(\u001b[0m\u001b[0m_type_check\u001b[0m\u001b[1;33m(\u001b[0m\u001b[0mp\u001b[0m\u001b[1;33m,\u001b[0m \u001b[0mmsg\u001b[0m\u001b[1;33m)\u001b[0m \u001b[1;32mfor\u001b[0m \u001b[0mp\u001b[0m \u001b[1;32min\u001b[0m \u001b[0mparams\u001b[0m\u001b[1;33m)\u001b[0m\u001b[1;33m\u001b[0m\u001b[1;33m\u001b[0m\u001b[0m\n\u001b[0m\u001b[0;32m    686\u001b[0m         \u001b[0m_check_generic\u001b[0m\u001b[1;33m(\u001b[0m\u001b[0mself\u001b[0m\u001b[1;33m,\u001b[0m \u001b[0mparams\u001b[0m\u001b[1;33m)\u001b[0m\u001b[1;33m\u001b[0m\u001b[1;33m\u001b[0m\u001b[0m\n\u001b[0;32m    687\u001b[0m         \u001b[1;32mreturn\u001b[0m \u001b[0m_subs_tvars\u001b[0m\u001b[1;33m(\u001b[0m\u001b[0mself\u001b[0m\u001b[1;33m,\u001b[0m \u001b[0mself\u001b[0m\u001b[1;33m.\u001b[0m\u001b[0m__parameters__\u001b[0m\u001b[1;33m,\u001b[0m \u001b[0mparams\u001b[0m\u001b[1;33m)\u001b[0m\u001b[1;33m\u001b[0m\u001b[1;33m\u001b[0m\u001b[0m\n",
      "\u001b[1;32mC:\\ProgramData\\Anaconda3\\lib\\typing.py\u001b[0m in \u001b[0;36m_type_check\u001b[1;34m(arg, msg, is_argument)\u001b[0m\n\u001b[0;32m    147\u001b[0m         \u001b[1;32mreturn\u001b[0m \u001b[0marg\u001b[0m\u001b[1;33m\u001b[0m\u001b[1;33m\u001b[0m\u001b[0m\n\u001b[0;32m    148\u001b[0m     \u001b[1;32mif\u001b[0m \u001b[1;32mnot\u001b[0m \u001b[0mcallable\u001b[0m\u001b[1;33m(\u001b[0m\u001b[0marg\u001b[0m\u001b[1;33m)\u001b[0m\u001b[1;33m:\u001b[0m\u001b[1;33m\u001b[0m\u001b[1;33m\u001b[0m\u001b[0m\n\u001b[1;32m--> 149\u001b[1;33m         \u001b[1;32mraise\u001b[0m \u001b[0mTypeError\u001b[0m\u001b[1;33m(\u001b[0m\u001b[1;34mf\"{msg} Got {arg!r:.100}.\"\u001b[0m\u001b[1;33m)\u001b[0m\u001b[1;33m\u001b[0m\u001b[1;33m\u001b[0m\u001b[0m\n\u001b[0m\u001b[0;32m    150\u001b[0m     \u001b[1;32mreturn\u001b[0m \u001b[0marg\u001b[0m\u001b[1;33m\u001b[0m\u001b[1;33m\u001b[0m\u001b[0m\n\u001b[0;32m    151\u001b[0m \u001b[1;33m\u001b[0m\u001b[0m\n",
      "\u001b[1;31mTypeError\u001b[0m: Parameters to generic types must be types. Got <filter object at 0x000001A4688793A0>."
     ]
    }
   ],
   "source": [
    "# 풀이 1) 포인터 이용한 스왑\n",
    "\n",
    "def reverseString(self, s:List[str])->None:\n",
    "    left,right=0, len(s)-1\n",
    "    while left<right:\n",
    "        s[left],s[right]=s[right],s[left]\n",
    "        left+=1\n",
    "        right-=1\n",
    "\n",
    "# 풀이 2) reverse 활용\n",
    "\n",
    "class Solution:\n",
    "    def reverseString(self, s: List[str]) -> None:\n",
    "        s.reverse()\n",
    "        \n",
    "\n",
    "# 참고 ) 슬라이싱(s[::-1]) 도 가능은 하나 리트코드에서는 \n",
    "#오답으로 처리"
   ]
  },
  {
   "cell_type": "markdown",
   "metadata": {},
   "source": [
    "## <span style=\"color:red\">3) 로그 파일 재 정렬</span>\n",
    "https://www.youtube.com/watch?v=c9FXBBKGelw\n",
    "\n",
    "1. 로그의 가장 앞 부분은 식별자이다.\n",
    "2. 문자로 구성된 로그가 숫자 로그보다 앞에 온다.\n",
    "3. 식별자는 순서에 영향을 끼치지 않지만, 문자가 동일한 경우 식별자 순으로 한다.\n",
    "4. 숫자 로그는 입력 순서대로 한다\n",
    "\n",
    "<span style=\"color:red\">2021-07-22 실패</span>"
   ]
  },
  {
   "cell_type": "code",
   "execution_count": 11,
   "metadata": {
    "scrolled": true
   },
   "outputs": [
    {
     "ename": "KeyboardInterrupt",
     "evalue": "",
     "output_type": "error",
     "traceback": [
      "\u001b[1;31m---------------------------------------------------------------------------\u001b[0m",
      "\u001b[1;31mKeyboardInterrupt\u001b[0m                         Traceback (most recent call last)",
      "\u001b[1;32m<ipython-input-11-bbbea80b9736>\u001b[0m in \u001b[0;36m<module>\u001b[1;34m\u001b[0m\n\u001b[0;32m     11\u001b[0m     \u001b[0mhigh\u001b[0m\u001b[1;33m=\u001b[0m\u001b[1;36m0\u001b[0m\u001b[1;33m\u001b[0m\u001b[1;33m\u001b[0m\u001b[0m\n\u001b[0;32m     12\u001b[0m     \u001b[1;32mfor\u001b[0m \u001b[0mi\u001b[0m \u001b[1;32min\u001b[0m \u001b[0mrange\u001b[0m\u001b[1;33m(\u001b[0m\u001b[0mx\u001b[0m\u001b[1;33m,\u001b[0m \u001b[0mlen\u001b[0m\u001b[1;33m(\u001b[0m\u001b[0mchecking\u001b[0m\u001b[1;33m)\u001b[0m\u001b[1;33m)\u001b[0m\u001b[1;33m:\u001b[0m\u001b[1;33m\u001b[0m\u001b[1;33m\u001b[0m\u001b[0m\n\u001b[1;32m---> 13\u001b[1;33m         \u001b[1;32mif\u001b[0m \u001b[1;33m(\u001b[0m\u001b[0mord\u001b[0m\u001b[1;33m(\u001b[0m\u001b[0mchecking\u001b[0m\u001b[1;33m[\u001b[0m\u001b[0mhigh\u001b[0m\u001b[1;33m]\u001b[0m\u001b[1;33m[\u001b[0m\u001b[0mx\u001b[0m\u001b[1;33m]\u001b[0m\u001b[1;33m[\u001b[0m\u001b[1;36m0\u001b[0m\u001b[1;33m]\u001b[0m\u001b[1;33m)\u001b[0m\u001b[1;33m<\u001b[0m\u001b[0mord\u001b[0m\u001b[1;33m(\u001b[0m\u001b[0mchecking\u001b[0m\u001b[1;33m[\u001b[0m\u001b[0mi\u001b[0m\u001b[1;33m]\u001b[0m\u001b[1;33m[\u001b[0m\u001b[0mx\u001b[0m\u001b[1;33m]\u001b[0m\u001b[1;33m[\u001b[0m\u001b[1;36m0\u001b[0m\u001b[1;33m]\u001b[0m\u001b[1;33m)\u001b[0m \u001b[1;32mand\u001b[0m \u001b[0mord\u001b[0m\u001b[1;33m(\u001b[0m\u001b[0mchecking\u001b[0m\u001b[1;33m[\u001b[0m\u001b[0mi\u001b[0m\u001b[1;33m]\u001b[0m\u001b[1;33m[\u001b[0m\u001b[0mx\u001b[0m\u001b[1;33m]\u001b[0m\u001b[1;33m[\u001b[0m\u001b[1;36m0\u001b[0m\u001b[1;33m]\u001b[0m\u001b[1;33m)\u001b[0m\u001b[1;33m>\u001b[0m\u001b[1;36m10\u001b[0m\u001b[1;33m)\u001b[0m\u001b[1;33m:\u001b[0m\u001b[1;33m\u001b[0m\u001b[1;33m\u001b[0m\u001b[0m\n\u001b[0m\u001b[0;32m     14\u001b[0m             \u001b[0mhigh\u001b[0m\u001b[1;33m=\u001b[0m\u001b[0mi\u001b[0m\u001b[1;33m\u001b[0m\u001b[1;33m\u001b[0m\u001b[0m\n\u001b[0;32m     15\u001b[0m         \u001b[1;32melif\u001b[0m\u001b[1;33m(\u001b[0m\u001b[0mord\u001b[0m\u001b[1;33m(\u001b[0m\u001b[0mchecking\u001b[0m\u001b[1;33m[\u001b[0m\u001b[0mhigh\u001b[0m\u001b[1;33m]\u001b[0m\u001b[1;33m[\u001b[0m\u001b[0mx\u001b[0m\u001b[1;33m]\u001b[0m\u001b[1;33m[\u001b[0m\u001b[1;36m0\u001b[0m\u001b[1;33m]\u001b[0m\u001b[1;33m)\u001b[0m\u001b[1;33m==\u001b[0m\u001b[0mord\u001b[0m\u001b[1;33m(\u001b[0m\u001b[0mchecking\u001b[0m\u001b[1;33m[\u001b[0m\u001b[0mi\u001b[0m\u001b[1;33m]\u001b[0m\u001b[1;33m[\u001b[0m\u001b[0mx\u001b[0m\u001b[1;33m]\u001b[0m\u001b[1;33m[\u001b[0m\u001b[1;36m0\u001b[0m\u001b[1;33m]\u001b[0m\u001b[1;33m)\u001b[0m \u001b[1;32mand\u001b[0m \u001b[0mord\u001b[0m\u001b[1;33m(\u001b[0m\u001b[0mchecking\u001b[0m\u001b[1;33m[\u001b[0m\u001b[0mi\u001b[0m\u001b[1;33m]\u001b[0m\u001b[1;33m[\u001b[0m\u001b[0mx\u001b[0m\u001b[1;33m]\u001b[0m\u001b[1;33m[\u001b[0m\u001b[1;36m0\u001b[0m\u001b[1;33m]\u001b[0m\u001b[1;33m)\u001b[0m\u001b[1;33m>\u001b[0m\u001b[1;36m10\u001b[0m\u001b[1;33m)\u001b[0m\u001b[1;33m:\u001b[0m\u001b[1;33m\u001b[0m\u001b[1;33m\u001b[0m\u001b[0m\n",
      "\u001b[1;31mKeyboardInterrupt\u001b[0m: "
     ]
    }
   ],
   "source": [
    "logs = [\"dig1 8 1 5 1\",\"let1 art can\",\"dig2 3 6\",\"let2 own kit dig\",\"let3 art zero\"]\n",
    "checking=[]\n",
    "\n",
    "for i in logs:\n",
    "    check=i\n",
    "    checking.append(check.split(\" \"))\n",
    "\n",
    "x=0\n",
    "\n",
    "while(x!=5):\n",
    "    high=0\n",
    "    for i in range(x, len(checking)):\n",
    "        if (ord(checking[high][x][0])<ord(checking[i][x][0]) and ord(checking[i][x][0])>10):\n",
    "            high=i\n",
    "        elif(ord(checking[high][x][0])==ord(checking[i][x][0]) and ord(checking[i][x][0])>10):\n",
    "            x+=1\n",
    "        i+=1\n",
    "    temp=checking[x]\n",
    "    checking[x]=checking[high]\n",
    "    checking[high]=temp\n",
    "            \n",
    "print(checking)\n",
    "        \n",
    "        \n",
    "        \n",
    "        \n"
   ]
  },
  {
   "cell_type": "code",
   "execution_count": null,
   "metadata": {},
   "outputs": [],
   "source": [
    "# 풀이 )\n",
    "class Solution:\n",
    "    def reorderLogFiles(self, logs: List[str]) -> List[str]:\n",
    "        digit,letter=[],[] #숫자가 저장되는 애들과 문자가 저장하는 애들을 따로 저장할 리스트 생성\n",
    "\n",
    "        for log in logs: #전체 logs 중에서\n",
    "            if(log.split()[1].isdigit()): #만약 나눠진 부분이 숫자일 경우\n",
    "                digit.append(log)#digit에 넣어준다\n",
    "            else:#숫자가 아닌 경우 즉, 문자인 경우\n",
    "                 letter.append(log)#letter에 넣어준다\n",
    "            \n",
    "        letter.sort(key=lambda x:(x.split()[1:],x.split()[0])) #letter에 들어있는 애들을 정렬해준다\n",
    "        #처음에는 식별자를 제외한 문자들을 정렬 그 후 식별자 기준으로 정렬해준다\n",
    "        return letter+digit #정렬된 문자와 원래 순서를 갖는 숫자들을 합쳐서 돌려준다"
   ]
  },
  {
   "cell_type": "markdown",
   "metadata": {},
   "source": [
    "## <span style=\"color:red\">04 ) 가장 흔한 단어</span>\n",
    "https://bit.ly/3wZB1jT\n",
    "\n",
    "금지된 단어를 제외한 가장 흔하게 등장하는 단어를 출력하라.  \n",
    "대소문자 구분을 하지 않으며, 구두점(마침표, 쉼표 등) 또한 무시한다\n",
    "    \n",
    "<span style=\"color:red\">2021-07-22 실패</span>\n"
   ]
  },
  {
   "cell_type": "code",
   "execution_count": 95,
   "metadata": {},
   "outputs": [
    {
     "name": "stdout",
     "output_type": "stream",
     "text": [
      "ball\n"
     ]
    }
   ],
   "source": [
    "import re\n",
    "\n",
    "paragraph=[]\n",
    "paragraph=\"Bob hit a ball, the hit BALL flew far after it was hit.\"\n",
    "banned=[]\n",
    "banned=\"hit\"\n",
    "check=[]\n",
    "paragraph=paragraph.split()\n",
    "count={}\n",
    "    \n",
    "for i in paragraph:\n",
    "    check.append((re.sub(r\"[^a-zA-Z0-9]\",\"\",i)).lower())\n",
    "\n",
    "if \n",
    "for i in check:\n",
    "    i=i.lower()\n",
    "    if i.isalnum:\n",
    "        try: count[i]+=1\n",
    "        except: count[i]=1\n",
    "\n",
    "maximum=check[0]            \n",
    "for i in count:\n",
    "    if i!=banned and count[i]>count[maximum]:\n",
    "        maximum=i\n",
    "\n",
    "print(maximum)"
   ]
  },
  {
   "cell_type": "code",
   "execution_count": 149,
   "metadata": {},
   "outputs": [
    {
     "name": "stdout",
     "output_type": "stream",
     "text": [
      "{'a': 4, 'null': 13, 'b': 3, 'c': 2}\n",
      "{'a': 4, 'b': 3, 'c': 2}\n",
      "b\n"
     ]
    }
   ],
   "source": [
    "import re\n",
    "\n",
    "paragraph=[]\n",
    "paragraph=\"a, a, a, a, b,b,b,c, c\"\n",
    "banned=[\"a\"]\n",
    "check=[]\n",
    "\n",
    "#paragraph=paragraph.split(' ' and ',')\n",
    "count={}\n",
    "#paragraph=paragraph.split()\n",
    "for i in paragraph:\n",
    "    check.append((re.sub(r\"[^a-zA-Z0-9]\",\"null\",i)).lower())\n",
    "\n",
    "for i in check:\n",
    "    i=i.lower()\n",
    "    if i.isalnum:\n",
    "        try: count[i]+=1\n",
    "        except: count[i]=1\n",
    "    \n",
    "\n",
    "if len(banned) != 0:\n",
    "    for i in count:\n",
    "        for j in banned:\n",
    "            if i!=j:\n",
    "                maximum=i\n",
    "                break\n",
    "else : \n",
    "    maximum=count[0]\n",
    "\n",
    "del(count['null'])\n",
    "print(count)\n",
    "for i in count:\n",
    "    for j in range(len(banned)):\n",
    "        if i!=banned[j] and count[i]>count[maximum]:\n",
    "            maximum=i\n",
    "print(maximum)"
   ]
  },
  {
   "cell_type": "code",
   "execution_count": 151,
   "metadata": {},
   "outputs": [
    {
     "name": "stdout",
     "output_type": "stream",
     "text": [
      "['a', 'a', 'a', 'a', 'b', 'b', 'b', 'c', 'c']\n",
      "b\n"
     ]
    }
   ],
   "source": [
    "import re\n",
    "\n",
    "paragraph=[]\n",
    "paragraph=\"a, a, a, a, b,b,b,c, c\"\n",
    "banned=[\"a\"]\n",
    "check=[]\n",
    "for s in paragraph:\n",
    "    if s==(','):\n",
    "        paragraph=paragraph.replace(',',' ')\n",
    "paragraph=paragraph.split()\n",
    "count={}\n",
    "#paragraph=paragraph.split()\n",
    "for i in paragraph:\n",
    "    check.append((re.sub(r\"[^a-zA-Z0-9]\",\"\",i)).lower())\n",
    "\n",
    "for i in check:\n",
    "    i=i.lower()\n",
    "    if i.isalnum:\n",
    "        try: count[i]+=1\n",
    "        except: count[i]=1\n",
    "    \n",
    "\n",
    "if len(banned) != 0:\n",
    "    for i in count:\n",
    "        for j in banned:\n",
    "            if i!=j:\n",
    "                maximum=i\n",
    "                break\n",
    "else : \n",
    "    maximum=count[0]\n",
    "        \n",
    "for i in count:\n",
    "    for j in range(len(banned)):\n",
    "        if i!=banned[j] and count[i]>count[maximum]:\n",
    "            maximum=i\n",
    "print(check)                \n",
    "print(maximum)"
   ]
  },
  {
   "cell_type": "code",
   "execution_count": null,
   "metadata": {},
   "outputs": [],
   "source": [
    "#풀이 ) 리스트 컴프리헨션, 카운터 객체 사용\n",
    "\n",
    "import collections\n",
    "import re\n",
    "from typing import List\n",
    "\n",
    "\n",
    "class Solution:\n",
    "    def mostCommonWord(self, paragraph: str, banned: List[str]) -> str:\n",
    "        words = re.sub(r'[^\\w]', ' ', paragraph)\n",
    "                 #단어 아닌 것들 빈칸으로 변경\n",
    "            .lower().split()#소문자 변경 > 빈칸들 리스트에 들억마\n",
    "                 if word not in banned] #banned에 들어가 있지 않은 경우\n",
    "\n",
    "        counts = collections.Counter(words) #words안을 count해줌\n",
    "        return counts.most_common(1)[0][0]\n",
    "            # 가장 흔하게 등장하는 단어의 첫 번째 인덱스 리턴"
   ]
  },
  {
   "cell_type": "markdown",
   "metadata": {},
   "source": [
    "## <span style=\"color:red\">05 ) 그룹 애너그램</span>\n",
    "\n",
    "문자열 배열을 받아 애너그램 단위로 그룹핑 하라\n",
    "    \n",
    "<span style=\"color:red\">2021-07-26 실패</span>\n"
   ]
  },
  {
   "cell_type": "code",
   "execution_count": 108,
   "metadata": {
    "scrolled": false
   },
   "outputs": [
    {
     "ename": "SyntaxError",
     "evalue": "invalid syntax (<ipython-input-108-d57bccdbaa9f>, line 32)",
     "output_type": "error",
     "traceback": [
      "\u001b[1;36m  File \u001b[1;32m\"<ipython-input-108-d57bccdbaa9f>\"\u001b[1;36m, line \u001b[1;32m32\u001b[0m\n\u001b[1;33m    pre=list(zip(resulting[s].keys(),resulting[s].values()))\u001b[0m\n\u001b[1;37m    ^\u001b[0m\n\u001b[1;31mSyntaxError\u001b[0m\u001b[1;31m:\u001b[0m invalid syntax\n"
     ]
    }
   ],
   "source": [
    "strs = [\"eat\",\"tea\",\"tan\",\"ate\",\"nat\",\"bat\"]\n",
    "\n",
    "checking=[]\n",
    "result={}\n",
    "resulting=[]\n",
    "pre=[]\n",
    "post=[]\n",
    "#result_list=[[0 for _ in range(len(strs[0]))] for _ in range(len(strs))]\n",
    "#print(result_list)\n",
    "\n",
    "for s in strs:\n",
    "    for a in s:\n",
    "        checking.append(a)\n",
    "\n",
    "count=1\n",
    "\n",
    "for s in range(0,len(strs)):\n",
    "    for a in range (0,len(strs[0])):\n",
    "        for x in range(a+1,len(strs[0])):\n",
    "            if checking[len(strs[0])*s+a] == checking[len(strs[0])*s+x]:\n",
    "                count+=1\n",
    "        #print(checking[len(strs[0])*s+a])\n",
    "        result[checking[len(strs[0])*s+a]] = count\n",
    "        count=1\n",
    "    resulting.append(result)\n",
    "    result={}\n",
    "\n",
    "print(resulting)\n",
    "\n",
    "for s in range(0,len(strs)):\n",
    "    print((resulting[s].keys(),\":\")\n",
    "    pre=list(zip(resulting[s].keys(),resulting[s].values()))\n",
    "    pre.sort()\n",
    "    for x in range(0,len(strs)):\n",
    "        post=list(zip(resulting[x].keys(),resulting[x].values()))\n",
    "        post.sort()\n",
    "        if pre==post:\n",
    "            print(resulting[x].keys())\n",
    "            del resulting[x]\n",
    "            count-=1\n",
    "        \n",
    "    print()"
   ]
  },
  {
   "cell_type": "code",
   "execution_count": 81,
   "metadata": {},
   "outputs": [
    {
     "name": "stdout",
     "output_type": "stream",
     "text": [
      "False\n"
     ]
    }
   ],
   "source": [
    "a={'e': 1, 'a': 1, 't': 1}\n",
    "b={'t': 1, 'a': 1, 'n': 1}\n",
    "\n",
    "a1=list(zip(a.keys(),a.values()))\n",
    "a1.sort()\n",
    "b1=list(zip(b.keys(),b.values()))\n",
    "b1.sort()\n",
    "print(a1==b1)"
   ]
  },
  {
   "cell_type": "code",
   "execution_count": null,
   "metadata": {},
   "outputs": [],
   "source": [
    "#풀이 ) 정렬 후 딕셔너리에 추가\n",
    "\n",
    "def groupAnagrams(self, strs: List[str]) -> List[List[str]]:\n",
    "        anagrams=collections.defaultdict(list)\n",
    "        #기본값 초기화를 해주지 않아도 자동으로 해준다\n",
    "        \n",
    "        for word in strs:\n",
    "            anagrams[''.join(sorted(word))].append(word)\n",
    "            #sorted(word)>배열로 나오기 때문에\n",
    "            #''.join해주어 문자열로 넣어준다\n",
    "        return list(anagrams.values())"
   ]
  },
  {
   "cell_type": "markdown",
   "metadata": {},
   "source": [
    "## <span style=\"color:red\">06 ) 가장 긴 팰린드롬 부분 문자열</span>\n",
    "\n",
    "회문(回文) 또는 팰린드롬(palindrome)은 거꾸로 읽어도 제대로 읽는 것과 같은 문장이나 낱말, 숫자, 문자열(sequence of characters) 등이다.    \n",
    "\n",
    "<span style=\"color:red\">2021-07-27 실패</span>"
   ]
  },
  {
   "cell_type": "code",
   "execution_count": 118,
   "metadata": {},
   "outputs": [
    {
     "name": "stdout",
     "output_type": "stream",
     "text": [
      "['b', 'a']\n"
     ]
    }
   ],
   "source": [
    "#딕셔너리에 값을 넣어서 짝수개인 값(즉 양쪽값이 될 수 있는것)\n",
    "#확인해서 만약 짝수개면 인덱스를 확인 그것의 양쪽값을 확인하려했음\n",
    "\n",
    "string=\"babad\"\n",
    "dic={}\n",
    "check=[]\n",
    "remember=[]\n",
    "for letter in string:\n",
    "    if letter in dic:\n",
    "        dic[letter]=dic[letter]+1\n",
    "    else:\n",
    "        dic[letter]=1\n",
    "\n",
    "for key,value in dic.items():\n",
    "    if value%2==0:\n",
    "       check.append(key)\n",
    "\n",
    "for l in range(0,len(string)):\n",
    "    for a in check:\n",
    "        if string[l]==a:\n",
    "            "
   ]
  },
  {
   "cell_type": "code",
   "execution_count": 122,
   "metadata": {},
   "outputs": [
    {
     "name": "stdout",
     "output_type": "stream",
     "text": [
      "2\n"
     ]
    }
   ],
   "source": [
    "#가운데 값 기준 양쪽 값 확인하는 방법 사용\n",
    "import math\n",
    "\n",
    "string=\"babad\"\n",
    "check=[]\n",
    "n=1\n",
    "\n",
    "check.append(string[0])\n",
    "for i in range(0,len(string)-1):\n",
    "    if string[i]==string[i+n]:\n",
    "        check.append(string[i+1])\n",
    "        n+=1\n",
    "    else:\n",
    "        break\n",
    "\n",
    "count=len(check)\n",
    "\n",
    "for i in range(1,len(string)-1):\n",
    "    for j in range(i+1,)"
   ]
  },
  {
   "cell_type": "code",
   "execution_count": null,
   "metadata": {},
   "outputs": [],
   "source": [
    "# 풀이 )\n",
    "\n",
    "class Solution:\n",
    "    def longestPalindrome(self, s: str) -> str:\n",
    "        # 팰린드롬 판별 및 투 포인터 확장\n",
    "        def expand(left: int, right: int) -> str:\n",
    "            while left >= 0 and right < len(s) and s[left] == s[right]:\n",
    "                left -= 1\n",
    "                right += 1\n",
    "            return s[left + 1:right]\n",
    "\n",
    "        # 해당 사항이 없을때 빠르게 리턴\n",
    "        if len(s) < 2 or s == s[::-1]: #s 뒤집었을때 동일한 \n",
    "            return s\n",
    "\n",
    "        result = ''\n",
    "        # 슬라이딩 윈도우 우측으로 이동\n",
    "        for i in range(len(s) - 1):\n",
    "            result = max(result,\n",
    "                         expand(i, i + 1),\n",
    "                         expand(i, i + 2),\n",
    "                         key=len)\n",
    "        return result"
   ]
  },
  {
   "cell_type": "code",
   "execution_count": null,
   "metadata": {},
   "outputs": [],
   "source": [
    "class Solution:\n",
    "    def longestPalindrome(self, s: str) -> str:\n",
    "        # 팰린드롬 판별 및 투 포인터 확장\n",
    "        def expand(left: int, right: int) -> str:\n",
    "            while left >= 0 and right < len(s) and s[left] == s[right]:\n",
    "                left -= 1\n",
    "                right += 1\n",
    "            return s[left + 1:right]\n",
    "\n",
    "        # 해당 사항이 없을때 빠르게 리턴\n",
    "        if len(s) < 2 or s == s[::-1]: #s 뒤집었을때 동일한 문자열\n",
    "            return s\n",
    "\n",
    "        result = ''\n",
    "        # 슬라이딩 윈도우 우측으로 이동\n",
    "        for i in range(len(s) - 1):\n",
    "            result = max(result,\n",
    "                         expand(i, i + 1),\n",
    "                         expand(i, i),\n",
    "                         key=len)\n",
    "        return result"
   ]
  }
 ],
 "metadata": {
  "kernelspec": {
   "display_name": "Python 3",
   "language": "python",
   "name": "python3"
  },
  "language_info": {
   "codemirror_mode": {
    "name": "ipython",
    "version": 3
   },
   "file_extension": ".py",
   "mimetype": "text/x-python",
   "name": "python",
   "nbconvert_exporter": "python",
   "pygments_lexer": "ipython3",
   "version": "3.8.5"
  }
 },
 "nbformat": 4,
 "nbformat_minor": 4
}
